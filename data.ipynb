{
 "cells": [
  {
   "cell_type": "code",
   "execution_count": 9,
   "metadata": {},
   "outputs": [],
   "source": [
    "import json\n",
    "import pandas as pd\n",
    "import numpy as np\n",
    "import statsapi as mlb\n",
    "import seaborn as sb\n",
    "import matplotlib.pyplot as plt"
   ]
  },
  {
   "cell_type": "code",
   "execution_count": 25,
   "metadata": {},
   "outputs": [],
   "source": [
    "orioles_id = (mlb.lookup_team('orioles', activeStatus=\"Y\", season=None, sportIds=1))[0]['id']\n",
    "\n",
    "roster = mlb.get('team_roster', {'teamId': '110', 'season':'2023'})\n",
    "roster_json = json.dumps(roster['roster'])\n",
    "orioles_roster = pd.DataFrame.from_dict(roster['roster'])\n",
    "\n",
    "personnel = []\n",
    "\n",
    "for person in orioles_roster['person']:\n",
    "    player = [person['id'], person['fullName'], person['link']]\n",
    "    personnel.append(list(player)) \n",
    "\n",
    "personnel_information = []\n",
    "for player_info in orioles_roster['position']:\n",
    "    info = [player_info['name']]\n",
    "    personnel_information.append(info)\n",
    "\n",
    "player_and_positions = zip(personnel, personnel_information)\n",
    "\n",
    "personnel = []\n",
    "for player in player_and_positions:\n",
    "    personnel.append(player[0].__add__(player[1]))\n",
    "\n",
    "os_players_df = pd.DataFrame(personnel, columns=['id', 'fullName', 'link', 'position'])\n",
    "\n",
    "position_df = os_players_df['position'].value_counts()\n",
    "\n",
    "#TODO: HISTOGRAM OF TEAM BATTING AVERAGES"
   ]
  },
  {
   "cell_type": "code",
   "execution_count": 23,
   "metadata": {},
   "outputs": [
    {
     "data": {
      "text/plain": [
       "count     7.000000\n",
       "mean      4.000000\n",
       "std       4.582576\n",
       "min       1.000000\n",
       "25%       2.000000\n",
       "50%       2.000000\n",
       "75%       3.500000\n",
       "max      14.000000\n",
       "Name: count, dtype: float64"
      ]
     },
     "execution_count": 23,
     "metadata": {},
     "output_type": "execute_result"
    }
   ],
   "source": [
    "position_df.describe()"
   ]
  },
  {
   "cell_type": "code",
   "execution_count": null,
   "metadata": {},
   "outputs": [],
   "source": []
  }
 ],
 "metadata": {
  "kernelspec": {
   "display_name": "Python 3",
   "language": "python",
   "name": "python3"
  },
  "language_info": {
   "codemirror_mode": {
    "name": "ipython",
    "version": 3
   },
   "file_extension": ".py",
   "mimetype": "text/x-python",
   "name": "python",
   "nbconvert_exporter": "python",
   "pygments_lexer": "ipython3",
   "version": "3.10.8"
  },
  "orig_nbformat": 4
 },
 "nbformat": 4,
 "nbformat_minor": 2
}
