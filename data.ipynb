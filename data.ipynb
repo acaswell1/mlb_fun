{
 "cells": [
  {
   "cell_type": "code",
   "execution_count": 32,
   "metadata": {},
   "outputs": [],
   "source": [
    "import json\n",
    "import pandas as pd\n",
    "import numpy as np\n",
    "import statsapi as mlb\n",
    "import seaborn as sb\n",
    "import matplotlib.pyplot as plt"
   ]
  },
  {
   "cell_type": "code",
   "execution_count": 64,
   "metadata": {},
   "outputs": [
    {
     "name": "stdout",
     "output_type": "stream",
     "text": [
      "        id           fullName                   link     position\n",
      "0   543305        Aaron Hicks  /api/v1/people/543305   Outfielder\n",
      "1   624428       Adam Frazier  /api/v1/people/624428  Second Base\n",
      "2   668939    Adley Rutschman  /api/v1/people/668939      Catcher\n",
      "3   623993  Anthony Santander  /api/v1/people/623993   Outfielder\n",
      "4   669720        Austin Hays  /api/v1/people/669720   Outfielder\n",
      "5   656775     Cedric Mullins  /api/v1/people/656775   Outfielder\n",
      "6   672335       Cionel Perez  /api/v1/people/672335      Pitcher\n",
      "7   669084            DL Hall  /api/v1/people/669084      Pitcher\n",
      "8   543056     Danny Coulombe  /api/v1/people/543056      Pitcher\n",
      "9   665152        Dean Kremer  /api/v1/people/665152      Pitcher\n",
      "10  680570  Grayson Rodriguez  /api/v1/people/680570      Pitcher\n",
      "11  683002   Gunnar Henderson  /api/v1/people/683002   Third Base\n",
      "12  677008    Heston Kjerstad  /api/v1/people/677008   Outfielder\n",
      "13  656427      Jack Flaherty  /api/v1/people/656427      Pitcher\n",
      "14  657097         Jacob Webb  /api/v1/people/657097      Pitcher\n",
      "15  543510       James McCann  /api/v1/people/543510      Catcher\n",
      "16  607644         John Means  /api/v1/people/607644      Pitcher\n",
      "17  676059    Jordan Westburg  /api/v1/people/676059  Second Base\n",
      "18  605347        Jorge Lopez  /api/v1/people/605347      Pitcher\n",
      "19  622761        Jorge Mateo  /api/v1/people/622761    Shortstop\n",
      "20  680694       Kyle Bradish  /api/v1/people/680694      Pitcher\n",
      "21  502043        Kyle Gibson  /api/v1/people/502043      Pitcher\n",
      "22  657508       Mike Baumann  /api/v1/people/657508      Pitcher\n",
      "23  602104        Ramon Urias  /api/v1/people/602104   Third Base\n",
      "24  663624   Ryan Mountcastle  /api/v1/people/663624   First Base\n",
      "25  656811       Ryan O'Hearn  /api/v1/people/656811   First Base\n",
      "26  660261  Shintaro Fujinami  /api/v1/people/660261      Pitcher\n",
      "27  666974       Yennier Cano  /api/v1/people/666974      Pitcher\n"
     ]
    },
    {
     "data": {
      "text/html": [
       "<div>\n",
       "<style scoped>\n",
       "    .dataframe tbody tr th:only-of-type {\n",
       "        vertical-align: middle;\n",
       "    }\n",
       "\n",
       "    .dataframe tbody tr th {\n",
       "        vertical-align: top;\n",
       "    }\n",
       "\n",
       "    .dataframe thead th {\n",
       "        text-align: right;\n",
       "    }\n",
       "</style>\n",
       "<table border=\"1\" class=\"dataframe\">\n",
       "  <thead>\n",
       "    <tr style=\"text-align: right;\">\n",
       "      <th></th>\n",
       "      <th>position</th>\n",
       "      <th>num_players</th>\n",
       "    </tr>\n",
       "  </thead>\n",
       "  <tbody>\n",
       "    <tr>\n",
       "      <th>0</th>\n",
       "      <td>Catcher</td>\n",
       "      <td>2</td>\n",
       "    </tr>\n",
       "    <tr>\n",
       "      <th>1</th>\n",
       "      <td>First Base</td>\n",
       "      <td>2</td>\n",
       "    </tr>\n",
       "    <tr>\n",
       "      <th>2</th>\n",
       "      <td>Outfielder</td>\n",
       "      <td>5</td>\n",
       "    </tr>\n",
       "    <tr>\n",
       "      <th>3</th>\n",
       "      <td>Pitcher</td>\n",
       "      <td>14</td>\n",
       "    </tr>\n",
       "    <tr>\n",
       "      <th>4</th>\n",
       "      <td>Second Base</td>\n",
       "      <td>2</td>\n",
       "    </tr>\n",
       "    <tr>\n",
       "      <th>5</th>\n",
       "      <td>Shortstop</td>\n",
       "      <td>1</td>\n",
       "    </tr>\n",
       "    <tr>\n",
       "      <th>6</th>\n",
       "      <td>Third Base</td>\n",
       "      <td>2</td>\n",
       "    </tr>\n",
       "  </tbody>\n",
       "</table>\n",
       "</div>"
      ],
      "text/plain": [
       "      position  num_players\n",
       "0      Catcher            2\n",
       "1   First Base            2\n",
       "2   Outfielder            5\n",
       "3      Pitcher           14\n",
       "4  Second Base            2\n",
       "5    Shortstop            1\n",
       "6   Third Base            2"
      ]
     },
     "execution_count": 64,
     "metadata": {},
     "output_type": "execute_result"
    }
   ],
   "source": [
    "orioles_id = (mlb.lookup_team('orioles', activeStatus=\"Y\", season=None, sportIds=1))[0]['id']\n",
    "\n",
    "roster = mlb.get('team_roster', {'teamId': '110', 'season':'2023'})\n",
    "roster_json = json.dumps(roster['roster'])\n",
    "orioles_roster = pd.DataFrame.from_dict(roster['roster'])\n",
    "\n",
    "personnel = []\n",
    "\n",
    "for person in orioles_roster['person']:\n",
    "    player = [person['id'], person['fullName'], person['link']]\n",
    "    personnel.append(list(player)) \n",
    "\n",
    "personnel_information = []\n",
    "for player_info in orioles_roster['position']:\n",
    "    info = [player_info['name']]\n",
    "    personnel_information.append(info)\n",
    "\n",
    "player_and_positions = zip(personnel, personnel_information)\n",
    "\n",
    "personnel = []\n",
    "for player in player_and_positions:\n",
    "    personnel.append(player[0].__add__(player[1]))\n",
    "\n",
    "os_players_df = pd.DataFrame(personnel, columns=['id', 'fullName', 'link', 'position'])\n",
    "\n",
    "position_df = os_players_df[['fullName', 'position']].groupby(['position']).count().reset_index()\n",
    "position_df.columns = ['position', 'num_players']\n",
    "position_df"
   ]
  },
  {
   "cell_type": "code",
   "execution_count": 63,
   "metadata": {},
   "outputs": [
    {
     "data": {
      "image/png": "[encoded data removed]",
      "text/plain": [
       "<Figure size 640x480 with 1 Axes>"
      ]
     },
     "metadata": {},
     "output_type": "display_data"
    }
   ],
   "source": [
    "plt.pie(x=position_df['num_players'], labels=position_df['position'])\n",
    "plt.show()"
   ]
  },
  {
   "cell_type": "code",
   "execution_count": null,
   "metadata": {},
   "outputs": [],
   "source": []
  }
 ],
 "metadata": {
  "kernelspec": {
   "display_name": "Python 3",
   "language": "python",
   "name": "python3"
  },
  "language_info": {
   "codemirror_mode": {
    "name": "ipython",
    "version": 3
   },
   "file_extension": ".py",
   "mimetype": "text/x-python",
   "name": "python",
   "nbconvert_exporter": "python",
   "pygments_lexer": "ipython3",
   "version": "3.10.8"
  },
  "orig_nbformat": 4
 },
 "nbformat": 4,
 "nbformat_minor": 2
}
